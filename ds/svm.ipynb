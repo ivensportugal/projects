{
 "cells": [
  {
   "cell_type": "code",
   "execution_count": 12,
   "id": "514ee489-df5a-422f-aef8-6ac14c6ebcf0",
   "metadata": {},
   "outputs": [
    {
     "name": "stdout",
     "output_type": "stream",
     "text": [
      "accuracy:  0.25\n",
      "prediction:  ['in']\n",
      "prediction:  [-1.79505778]\n"
     ]
    },
    {
     "name": "stderr",
     "output_type": "stream",
     "text": [
      "/Users/ivens/Documents/project/myenv/lib/python3.9/site-packages/sklearn/svm/_classes.py:31: FutureWarning: The default value of `dual` will change from `True` to `'auto'` in 1.5. Set the value of `dual` explicitly to suppress the warning.\n",
      "  warnings.warn(\n",
      "/Users/ivens/Documents/project/myenv/lib/python3.9/site-packages/sklearn/svm/_classes.py:31: FutureWarning: The default value of `dual` will change from `True` to `'auto'` in 1.5. Set the value of `dual` explicitly to suppress the warning.\n",
      "  warnings.warn(\n"
     ]
    }
   ],
   "source": [
    "import pandas as pd\n",
    "import numpy as np\n",
    "import seaborn as sns\n",
    "import matplotlib.pyplot as plt\n",
    "\n",
    "from sklearn.model_selection import train_test_split\n",
    "from sklearn.svm import LinearSVC\n",
    "from sklearn.svm import LinearSVR\n",
    "\n",
    "from sklearn.metrics import accuracy_score\n",
    "\n",
    "df = pd.read_csv('locations.csv', sep='\\t')\n",
    "\n",
    "X = df[['x','y']]\n",
    "y = df['class']\n",
    "\n",
    "X_train, X_test, y_train, y_test = train_test_split(X,y,test_size=0.4)\n",
    "\n",
    "m = LinearSVC()\n",
    "m = m.fit(X_train,y_train)\n",
    "\n",
    "p = m.predict(X_test)\n",
    "a = accuracy_score(p, y_test)\n",
    "\n",
    "print('accuracy: ', a)\n",
    "\n",
    "d = pd.DataFrame(np.array([5,-5]).reshape(1,2), columns=df.columns[:2])\n",
    "p = m.predict(d)\n",
    "\n",
    "print('prediction: ', p)\n",
    "\n",
    "\n",
    "y = df['number']\n",
    "\n",
    "X_train, X_test, y_train, y_test = train_test_split(X,y,test_size=0.4)\n",
    "\n",
    "m = LinearSVR()\n",
    "m = m.fit(X_train,y_train)\n",
    "\n",
    "p = m.predict(X_test)\n",
    "# a = accuracy_score(p, y_test)\n",
    "\n",
    "# print('accuracy: ', a)\n",
    "\n",
    "d = pd.DataFrame(np.array([5,-5]).reshape(1,2), columns=df.columns[:2])\n",
    "p = m.predict(d)\n",
    "\n",
    "print('prediction: ', p)"
   ]
  }
 ],
 "metadata": {
  "kernelspec": {
   "display_name": "Python 3 (ipykernel)",
   "language": "python",
   "name": "python3"
  },
  "language_info": {
   "codemirror_mode": {
    "name": "ipython",
    "version": 3
   },
   "file_extension": ".py",
   "mimetype": "text/x-python",
   "name": "python",
   "nbconvert_exporter": "python",
   "pygments_lexer": "ipython3",
   "version": "3.9.6"
  }
 },
 "nbformat": 4,
 "nbformat_minor": 5
}
