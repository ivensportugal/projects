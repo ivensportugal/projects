{
 "cells": [
  {
   "cell_type": "code",
   "execution_count": 6,
   "id": "0fd68efb-12e9-4c35-b5d6-2eb75a7d2ebe",
   "metadata": {},
   "outputs": [
    {
     "name": "stdout",
     "output_type": "stream",
     "text": [
      "Learned Q-table:\n",
      "[[0.22017776 0.         0.48767498 0.48377358]\n",
      " [0.51334208 0.51252074 0.51333551 0.51330923]\n",
      " [0.54035998 0.54018717 0.54035981 0.54036009]\n",
      " [0.56880009 0.56880009 0.56880009 0.56879864]\n",
      " [0.59873694 0.59873694 0.59873694 0.59873694]\n",
      " [0.63024941 0.63024941 0.63024941 0.63024941]\n",
      " [0.66342043 0.66342043 0.66342043 0.66342043]\n",
      " [0.6983373  0.6983373  0.6983373  0.6983373 ]\n",
      " [0.73509189 0.73509189 0.73509189 0.73509189]\n",
      " [0.77378094 0.77378094 0.77378094 0.77378094]\n",
      " [0.81450625 0.81450625 0.81450625 0.81450625]\n",
      " [0.857375   0.857375   0.857375   0.857375  ]\n",
      " [0.9025     0.9025     0.9025     0.9025    ]\n",
      " [0.95       0.95       0.95       0.95      ]\n",
      " [1.         1.         1.         1.        ]\n",
      " [0.         0.         0.         0.        ]]\n"
     ]
    }
   ],
   "source": [
    "import numpy as np\n",
    "\n",
    "n_states = 16\n",
    "n_actions = 4\n",
    "goal_state = 15\n",
    "\n",
    "Q_table = np.zeros((n_states, n_actions))\n",
    "\n",
    "learning_rate = 0.8\n",
    "discount_factor = 0.95\n",
    "exploration_prob = 0.2\n",
    "epochs = 1000\n",
    "\n",
    "for epoch in range(epochs):\n",
    "    current_state = np.random.randint(0, n_states)\n",
    "\n",
    "    while current_state != goal_state:\n",
    "        if np.random.rand() < exploration_prob:\n",
    "            action = np.random.randint(0, n_actions)\n",
    "        else:\n",
    "            action = np.argmax(Q_table[current_state])\n",
    "\n",
    "        next_state = (current_state + 1) % n_states\n",
    "\n",
    "        reward = 1 if next_state == goal_state else 0\n",
    "\n",
    "        Q_table[current_state, action] += learning_rate * \\\n",
    "            (reward + discount_factor *\n",
    "             np.max(Q_table[next_state]) - Q_table[current_state, action])\n",
    "\n",
    "        current_state = next_state\n",
    "\n",
    "print('Learned Q-table:')\n",
    "print(Q_table)"
   ]
  }
 ],
 "metadata": {
  "kernelspec": {
   "display_name": "Python 3 (ipykernel)",
   "language": "python",
   "name": "python3"
  },
  "language_info": {
   "codemirror_mode": {
    "name": "ipython",
    "version": 3
   },
   "file_extension": ".py",
   "mimetype": "text/x-python",
   "name": "python",
   "nbconvert_exporter": "python",
   "pygments_lexer": "ipython3",
   "version": "3.9.6"
  }
 },
 "nbformat": 4,
 "nbformat_minor": 5
}
