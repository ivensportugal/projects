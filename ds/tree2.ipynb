{
 "cells": [
  {
   "cell_type": "code",
   "execution_count": 70,
   "id": "e9965278-bcf6-40fe-86e9-ce21090a1021",
   "metadata": {},
   "outputs": [
    {
     "name": "stdout",
     "output_type": "stream",
     "text": [
      "accuracy:  0.1\n",
      "prediction:  [3.]\n"
     ]
    }
   ],
   "source": [
    "import pandas as pd\n",
    "import numpy as np\n",
    "import seaborn as sns\n",
    "import matplotlib.pyplot as plt\n",
    "\n",
    "from sklearn.model_selection import train_test_split\n",
    "from sklearn.tree import DecisionTreeRegressor\n",
    "\n",
    "from sklearn.metrics import accuracy_score\n",
    "\n",
    "df = pd.read_csv('grades3.csv', sep='\\t')\n",
    "\n",
    "X = df[['grade1','grade2','grade3','grade4']]\n",
    "y = df['grade5']\n",
    "\n",
    "X_train, X_test, y_train, y_test = train_test_split(X,y,test_size=0.4)\n",
    "\n",
    "m = DecisionTreeRegressor()\n",
    "m = m.fit(X_train,y_train)\n",
    "\n",
    "p = m.predict(X_test)\n",
    "a = accuracy_score(p,y_test)\n",
    "\n",
    "print('accuracy: ', a)\n",
    "\n",
    "\n",
    "d = pd.DataFrame(np.array([0,0,0,0]).reshape(1,4), columns=df.columns[:4])\n",
    "p = m.predict(d)\n",
    "print('prediction: ', p)"
   ]
  }
 ],
 "metadata": {
  "kernelspec": {
   "display_name": "Python 3 (ipykernel)",
   "language": "python",
   "name": "python3"
  },
  "language_info": {
   "codemirror_mode": {
    "name": "ipython",
    "version": 3
   },
   "file_extension": ".py",
   "mimetype": "text/x-python",
   "name": "python",
   "nbconvert_exporter": "python",
   "pygments_lexer": "ipython3",
   "version": "3.9.6"
  }
 },
 "nbformat": 4,
 "nbformat_minor": 5
}
