{
 "cells": [
  {
   "cell_type": "markdown",
   "id": "1336278d-903f-425f-8ec7-5b2a6a7f6588",
   "metadata": {},
   "source": [
    "Just some initialization"
   ]
  },
  {
   "cell_type": "code",
   "execution_count": 23,
   "id": "ec03b11b-8b06-4f81-806c-e54fccad4e93",
   "metadata": {},
   "outputs": [],
   "source": [
    "import pandas as pd\n",
    "import seaborn as sns\n",
    "import matplotlib.pyplot as plt\n",
    "import numpy as np\n",
    "\n",
    "from sklearn.linear_model import LinearRegression\n",
    "from sklearn.metrics import r2_score,mean_squared_error\n",
    "\n",
    "df = pd.read_csv('data.csv')"
   ]
  },
  {
   "cell_type": "markdown",
   "id": "c4644fe1-34d1-4e24-a9d1-1258f823d6bf",
   "metadata": {},
   "source": [
    "Some visualization of data"
   ]
  },
  {
   "cell_type": "code",
   "execution_count": 11,
   "id": "c4fadcfa-f7a0-4ebd-8d41-dbdaf42d6008",
   "metadata": {
    "scrolled": true
   },
   "outputs": [
    {
     "data": {
      "image/png": "[encoded data removed]",
      "text/plain": [
       "<Figure size 200x200 with 1 Axes>"
      ]
     },
     "metadata": {},
     "output_type": "display_data"
    }
   ],
   "source": [
    "sns.pairplot(df,x_vars=['hour'],y_vars=['grade'],height=2,kind='scatter')\n",
    "\n",
    "plt.xlabel('Hour')\n",
    "plt.ylabel('Grade')\n",
    "plt.title('Grade Prediction - Hour vs Grade')\n",
    "\n",
    "plt.show()"
   ]
  },
  {
   "cell_type": "markdown",
   "id": "7f6d848c-cb33-415a-9fcf-39d5f0054c94",
   "metadata": {},
   "source": [
    "Prediction"
   ]
  },
  {
   "cell_type": "code",
   "execution_count": 52,
   "id": "2e2c22a8-560b-4b38-85d2-a35859dbc65b",
   "metadata": {},
   "outputs": [
    {
     "name": "stdout",
     "output_type": "stream",
     "text": [
      "[[10.]]\n",
      "[7.10542736e-15]\n",
      "[[400.]]\n"
     ]
    }
   ],
   "source": [
    "lrm = LinearRegression()\n",
    "p = lrm.fit(df['hour'].to_numpy().reshape(-1,1),df['grade'].to_numpy().reshape(-1,1))\n",
    "print(p.coef_)\n",
    "print(p.intercept_)\n",
    "a = np.array()\n",
    "print(p.predict(a))"
   ]
  },
  {
   "cell_type": "code",
   "execution_count": null,
   "id": "107047ea-10f9-4e72-ad7c-93afc5c10b0e",
   "metadata": {},
   "outputs": [],
   "source": [
    "Assessment"
   ]
  },
  {
   "cell_type": "code",
   "execution_count": null,
   "id": "5bea9a55-bcd9-4f18-a64c-3e8cce64c6ec",
   "metadata": {},
   "outputs": [],
   "source": [
    "from sklearn.linear_model import LinearRegression\n",
    "from sklearn.metrics import r2_score,mean_squared_error\n",
    "\n",
    "linear_regression_model = Linear"
   ]
  }
 ],
 "metadata": {
  "kernelspec": {
   "display_name": "Python 3 (ipykernel)",
   "language": "python",
   "name": "python3"
  },
  "language_info": {
   "codemirror_mode": {
    "name": "ipython",
    "version": 3
   },
   "file_extension": ".py",
   "mimetype": "text/x-python",
   "name": "python",
   "nbconvert_exporter": "python",
   "pygments_lexer": "ipython3",
   "version": "3.9.6"
  }
 },
 "nbformat": 4,
 "nbformat_minor": 5
}
