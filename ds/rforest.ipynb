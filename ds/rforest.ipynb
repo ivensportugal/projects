{
 "cells": [
  {
   "cell_type": "code",
   "execution_count": 19,
   "id": "b350aa9f-5139-4d6a-9cbe-ef8663e3d04e",
   "metadata": {},
   "outputs": [
    {
     "name": "stdout",
     "output_type": "stream",
     "text": [
      "prediction:  first\n"
     ]
    }
   ],
   "source": [
    "import pandas as pd\n",
    "import numpy as np\n",
    "\n",
    "from sklearn.ensemble import RandomForestClassifier\n",
    "\n",
    "df = pd.read_csv('coord.csv', sep='\\t')\n",
    "\n",
    "X = df[['x','y']]\n",
    "y = df['q']\n",
    "\n",
    "m = RandomForestClassifier()\n",
    "m = m.fit(X,y)\n",
    "d = pd.DataFrame(np.array([0,3]).reshape(1,2), columns=df.columns[:2])\n",
    "p = m.predict(d)\n",
    "\n",
    "print('prediction: ', p[0])"
   ]
  }
 ],
 "metadata": {
  "kernelspec": {
   "display_name": "Python 3 (ipykernel)",
   "language": "python",
   "name": "python3"
  },
  "language_info": {
   "codemirror_mode": {
    "name": "ipython",
    "version": 3
   },
   "file_extension": ".py",
   "mimetype": "text/x-python",
   "name": "python",
   "nbconvert_exporter": "python",
   "pygments_lexer": "ipython3",
   "version": "3.9.6"
  }
 },
 "nbformat": 4,
 "nbformat_minor": 5
}
