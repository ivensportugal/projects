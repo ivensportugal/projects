{
 "cells": [
  {
   "cell_type": "code",
   "execution_count": 5,
   "id": "301ea9d5-b1d7-4ff3-8e9e-e2362b6b10e2",
   "metadata": {},
   "outputs": [
    {
     "name": "stdout",
     "output_type": "stream",
     "text": [
      "prediciton:  ['fourth']\n"
     ]
    }
   ],
   "source": [
    "import pandas as pd\n",
    "import numpy as np\n",
    "\n",
    "from sklearn.ensemble import GradientBoostingClassifier\n",
    "\n",
    "df = pd.read_csv('coord.csv',sep='\\t')\n",
    "\n",
    "X = df[['x','y']]\n",
    "y = df['q']\n",
    "\n",
    "m = GradientBoostingClassifier()\n",
    "m = m.fit(X,y)\n",
    "\n",
    "d = pd.DataFrame(np.array([116,-100]).reshape(1,2), columns=df.columns[:2])\n",
    "p = m.predict(d)\n",
    "\n",
    "print('prediciton: ', p)"
   ]
  }
 ],
 "metadata": {
  "kernelspec": {
   "display_name": "Python 3 (ipykernel)",
   "language": "python",
   "name": "python3"
  },
  "language_info": {
   "codemirror_mode": {
    "name": "ipython",
    "version": 3
   },
   "file_extension": ".py",
   "mimetype": "text/x-python",
   "name": "python",
   "nbconvert_exporter": "python",
   "pygments_lexer": "ipython3",
   "version": "3.9.6"
  }
 },
 "nbformat": 4,
 "nbformat_minor": 5
}
